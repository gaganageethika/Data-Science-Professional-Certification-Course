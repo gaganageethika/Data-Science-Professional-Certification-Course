{
 "cells": [
  {
   "cell_type": "markdown",
   "id": "a66633c2-feb8-409f-8d89-a65ace1cfe77",
   "metadata": {},
   "source": [
    "# Data Science Tools and Ecosystems\n"
   ]
  },
  {
   "cell_type": "markdown",
   "id": "ad481ae5-2b1a-4407-94b7-7e7e3e5704cd",
   "metadata": {},
   "source": [
    "In this notebook, Data Science Tools and Ecosystems are summarized"
   ]
  },
  {
   "cell_type": "markdown",
   "id": "eff0547a-9c96-47bf-9b5e-dcf2a79c1c85",
   "metadata": {},
   "source": [
    "**Objectives:**\n",
    "- List popular languages for Data Science\n",
    "- List commonly used libraries by Data Scientists\n",
    "- List some Data Science Tools\n",
    "- Few Examples of evaluating Arithmetic expressions in Python"
   ]
  },
  {
   "cell_type": "markdown",
   "id": "81473b62-512b-4049-9dd4-52244e623cb8",
   "metadata": {},
   "source": [
    "Some of the popular languages that Data Scientists use are:\n",
    "1. Python\n",
    "2. R\n",
    "3. Julia\n"
   ]
  },
  {
   "cell_type": "markdown",
   "id": "ed46e0cc-b513-4710-a6f1-7bb1f37594e9",
   "metadata": {},
   "source": [
    "Some of the commonly used libraries used by Data Scientists include:\n",
    "1. Matplotlib\n",
    "2. Seaborn\n",
    "3. ggplot"
   ]
  },
  {
   "cell_type": "markdown",
   "id": "6ff2165c-0f08-4c09-9983-312765d19713",
   "metadata": {},
   "source": [
    "|Data Science Tools|\n",
    "|------------------|\n",
    "|Jupyter           |\n",
    "|RStudio           |\n",
    "|Pixie Dust        |"
   ]
  },
  {
   "cell_type": "markdown",
   "id": "57151f38-3fee-4b21-b201-e16ec046c7fd",
   "metadata": {},
   "source": [
    "### Below are a few examples of evaluating arithmetic expressions in Python"
   ]
  },
  {
   "cell_type": "code",
   "execution_count": 5,
   "id": "1cd36153-b69a-4ee5-96cf-fec7a3a98878",
   "metadata": {
    "tags": []
   },
   "outputs": [
    {
     "data": {
      "text/plain": [
       "17"
      ]
     },
     "execution_count": 5,
     "metadata": {},
     "output_type": "execute_result"
    }
   ],
   "source": [
    "# This a simple arithmetic expression to multiply then add integers\n",
    "(3*4)+5\n"
   ]
  },
  {
   "cell_type": "code",
   "execution_count": 7,
   "id": "c3e8e6fb-51a1-42b1-83f5-a4c43113df88",
   "metadata": {
    "tags": []
   },
   "outputs": [
    {
     "name": "stdout",
     "output_type": "stream",
     "text": [
      "3 hours 20 minutes\n"
     ]
    }
   ],
   "source": [
    "# This will convert 200 minutes to hours by diving by 60\n",
    "minutes=200%60\n",
    "hours=200//60\n",
    "print(hours,\"hours\",minutes,\"minutes\")"
   ]
  },
  {
   "cell_type": "markdown",
   "id": "4cfdf041-293e-4f13-adde-0a5106029fdf",
   "metadata": {},
   "source": [
    "## Author\n",
    "Gaganageethika"
   ]
  },
  {
   "cell_type": "code",
   "execution_count": null,
   "id": "4ae9d56d-d6ff-4175-a8f5-8285bf7fb146",
   "metadata": {},
   "outputs": [],
   "source": []
  }
 ],
 "metadata": {
  "kernelspec": {
   "display_name": "Python",
   "language": "python",
   "name": "conda-env-python-py"
  },
  "language_info": {
   "codemirror_mode": {
    "name": "ipython",
    "version": 3
   },
   "file_extension": ".py",
   "mimetype": "text/x-python",
   "name": "python",
   "nbconvert_exporter": "python",
   "pygments_lexer": "ipython3",
   "version": "3.7.12"
  }
 },
 "nbformat": 4,
 "nbformat_minor": 5
}
